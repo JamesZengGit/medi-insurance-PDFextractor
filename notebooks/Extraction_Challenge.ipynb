{
  "cells": [
    {
      "cell_type": "code",
      "execution_count": 1,
      "metadata": {
        "colab": {
          "base_uri": "https://localhost:8080/"
        },
        "id": "kYhER-e0ZGRl",
        "outputId": "7fe2dca7-19e3-4314-dcdb-7c9127a75f15"
      },
      "outputs": [
        {
          "name": "stdout",
          "output_type": "stream",
          "text": [
            "Collecting python-dotenv\n",
            "  Downloading python_dotenv-1.1.0-py3-none-any.whl.metadata (24 kB)\n",
            "Collecting pdfplumber\n",
            "  Downloading pdfplumber-0.11.6-py3-none-any.whl.metadata (42 kB)\n",
            "\u001b[2K     \u001b[90m━━━━━━━━━━━━━━━━━━━━━━━━━━━━━━━━━━━━━━━━\u001b[0m \u001b[32m42.8/42.8 kB\u001b[0m \u001b[31m1.8 MB/s\u001b[0m eta \u001b[36m0:00:00\u001b[0m\n",
            "\u001b[?25hCollecting pdfminer.six==20250327 (from pdfplumber)\n",
            "  Downloading pdfminer_six-20250327-py3-none-any.whl.metadata (4.1 kB)\n",
            "Collecting Pillow>=9.1 (from pdfplumber)\n",
            "  Downloading pillow-11.2.1-cp312-cp312-manylinux_2_28_aarch64.whl.metadata (8.9 kB)\n",
            "Collecting pypdfium2>=4.18.0 (from pdfplumber)\n",
            "  Downloading pypdfium2-4.30.1-py3-none-manylinux_2_17_aarch64.manylinux2014_aarch64.whl.metadata (48 kB)\n",
            "\u001b[2K     \u001b[90m━━━━━━━━━━━━━━━━━━━━━━━━━━━━━━━━━━━━━━━━\u001b[0m \u001b[32m48.2/48.2 kB\u001b[0m \u001b[31m3.0 MB/s\u001b[0m eta \u001b[36m0:00:00\u001b[0m\n",
            "\u001b[?25hRequirement already satisfied: charset-normalizer>=2.0.0 in /home/username/jupyter-env/lib/python3.12/site-packages (from pdfminer.six==20250327->pdfplumber) (3.4.2)\n",
            "Collecting cryptography>=36.0.0 (from pdfminer.six==20250327->pdfplumber)\n",
            "  Downloading cryptography-44.0.3-cp39-abi3-manylinux_2_34_aarch64.whl.metadata (5.7 kB)\n",
            "Requirement already satisfied: cffi>=1.12 in /home/username/jupyter-env/lib/python3.12/site-packages (from cryptography>=36.0.0->pdfminer.six==20250327->pdfplumber) (1.17.1)\n",
            "Requirement already satisfied: pycparser in /home/username/jupyter-env/lib/python3.12/site-packages (from cffi>=1.12->cryptography>=36.0.0->pdfminer.six==20250327->pdfplumber) (2.22)\n",
            "Downloading python_dotenv-1.1.0-py3-none-any.whl (20 kB)\n",
            "Downloading pdfplumber-0.11.6-py3-none-any.whl (60 kB)\n",
            "\u001b[2K   \u001b[90m━━━━━━━━━━━━━━━━━━━━━━━━━━━━━━━━━━━━━━━━\u001b[0m \u001b[32m60.2/60.2 kB\u001b[0m \u001b[31m932.3 kB/s\u001b[0m eta \u001b[36m0:00:00\u001b[0m \u001b[36m0:00:01\u001b[0m\n",
            "\u001b[?25hDownloading pdfminer_six-20250327-py3-none-any.whl (5.6 MB)\n",
            "\u001b[2K   \u001b[90m━━━━━━━━━━━━━━━━━━━━━━━━━━━━━━━━━━━━━━━━\u001b[0m \u001b[32m5.6/5.6 MB\u001b[0m \u001b[31m21.4 MB/s\u001b[0m eta \u001b[36m0:00:00\u001b[0m00:01\u001b[0m00:01\u001b[0m\n",
            "\u001b[?25hDownloading pillow-11.2.1-cp312-cp312-manylinux_2_28_aarch64.whl (4.5 MB)\n",
            "\u001b[2K   \u001b[90m━━━━━━━━━━━━━━━━━━━━━━━━━━━━━━━━━━━━━━━━\u001b[0m \u001b[32m4.5/4.5 MB\u001b[0m \u001b[31m23.9 MB/s\u001b[0m eta \u001b[36m0:00:00\u001b[0m00:01\u001b[0m00:01\u001b[0m\n",
            "\u001b[?25hDownloading pypdfium2-4.30.1-py3-none-manylinux_2_17_aarch64.manylinux2014_aarch64.whl (2.8 MB)\n",
            "\u001b[2K   \u001b[90m━━━━━━━━━━━━━━━━━━━━━━━━━━━━━━━━━━━━━━━━\u001b[0m \u001b[32m2.8/2.8 MB\u001b[0m \u001b[31m16.4 MB/s\u001b[0m eta \u001b[36m0:00:00\u001b[0m00:01\u001b[0m00:01\u001b[0m\n",
            "\u001b[?25hDownloading cryptography-44.0.3-cp39-abi3-manylinux_2_34_aarch64.whl (4.0 MB)\n",
            "\u001b[2K   \u001b[90m━━━━━━━━━━━━━━━━━━━━━━━━━━━━━━━━━━━━━━━━\u001b[0m \u001b[32m4.0/4.0 MB\u001b[0m \u001b[31m36.0 MB/s\u001b[0m eta \u001b[36m0:00:00\u001b[0m00:01\u001b[0m00:01\u001b[0m\n",
            "\u001b[?25hInstalling collected packages: python-dotenv, pypdfium2, Pillow, cryptography, pdfminer.six, pdfplumber\n",
            "Successfully installed Pillow-11.2.1 cryptography-44.0.3 pdfminer.six-20250327 pdfplumber-0.11.6 pypdfium2-4.30.1 python-dotenv-1.1.0\n"
          ]
        }
      ],
      "source": [
        "!pip install python-dotenv pdfplumber"
      ]
    },
    {
      "cell_type": "code",
      "execution_count": 2,
      "metadata": {
        "id": "kf2B1ou3WRRg"
      },
      "outputs": [],
      "source": [
        "import os\n",
        "import requests\n",
        "import pdfplumber\n",
        "import re\n",
        "import json"
      ]
    },
    {
      "cell_type": "code",
      "execution_count": 5,
      "metadata": {
        "id": "rirDIwX6Xy-o"
      },
      "outputs": [],
      "source": [
        "url = \"https://beonbrand.getbynder.com/m/17db51e853b2fca1/\""
      ]
    },
    {
      "cell_type": "code",
      "execution_count": 9,
      "metadata": {
        "id": "ucpuJD10cdf4"
      },
      "outputs": [],
      "source": [
        "# Extraction functions\n",
        "def extract_title(lines):\n",
        "    '''Extracts title from the second line of the input, the input is pdf text split by \\n'''\n",
        "    title = \"\"\n",
        "    if len(lines) > 1:\n",
        "        try:\n",
        "            title = lines[1]\n",
        "        except ValueError:\n",
        "            print(\"Second line is not a number.\")\n",
        "    return title\n",
        "\n",
        "def extract_rules1(lines):\n",
        "    '''Extracts rules from the fraction between MEDICAL POLOICY CRITERIA and POLICY GUIDELINES of input, the input is pdf tect split by \\n'''\n",
        "    # search between signs\n",
        "    start_sign = \"MEDICAL POLICY CRITERIA\"\n",
        "    end_sign = \"NOTE: A summary of the supporting rationale for the policy criteria is at the end of the policy.\"\n",
        "    start_index = lines.index(start_sign)\n",
        "    end_index = lines.index(end_sign)\n",
        "\n",
        "    if start_index == -1 and end_index == -1:\n",
        "        return {}\n",
        "\n",
        "    #\n",
        "\n",
        "    ed = lines[start_index+1:end_index]\n",
        "    rules = {\"rule_id\": \"1\", \"rule_text\": \"Coverage Criteria\", \"operator\": \"AND\", \"rules\": []}\n",
        "    level_dic = {1: 0, 2: 0, 3: 0} # Use of dic to save memory\n",
        "    last_matched = None\n",
        "\n",
        "    for line in ed:\n",
        "        # Match lines starting with Roman numerals or numbers (e.g., I., II., A., 1.)\n",
        "        matches = re.match(r'^([IVX]+|[A-Z]+|\\d+)\\.\\s+(.*)', line)\n",
        "\n",
        "        if matches:\n",
        "            level = matches.group(1)  # Extract level (Roman, number, or letter)\n",
        "            content = matches.group(2)  # Extract content\n",
        "            l_id = 0\n",
        "            rule_id = \"\"\n",
        "            operator = None\n",
        "            current_level = rules[\"rules\"]\n",
        "\n",
        "            # IDs\n",
        "            if re.match(r'^[IVX]', level):\n",
        "                l_id = 1\n",
        "                opeartor = \"OR\"\n",
        "                l1_rule_id = level_dic.get(1) + 1\n",
        "                rule_id = \"1.\" + str(l1_rule_id)\n",
        "                level_dic.update({1: l1_rule_id, 2: 0, 3: 0})\n",
        "            elif re.match(r'^[A-Z]', level):\n",
        "                l_id = 2\n",
        "                operator = \"OR\"\n",
        "                l2_rule_id = level_dic.get(2) + 1\n",
        "                rule_id = \"1.\" + str(level_dic.get(1)) + \".\" + str(l2_rule_id)\n",
        "                level_dic.update({2: l2_rule_id,3: 0})\n",
        "            elif re.match(r'^\\d', level):\n",
        "                l_id = 3\n",
        "                l3_rule_id = level_dic.get(3) + 1\n",
        "                rule_id = \"1.\" + str(level_dic.get(1)) + \".\" + str(level_dic.get(2)) + \".\" + str(l3_rule_id)\n",
        "                level_dic.update({3: l3_rule_id})\n",
        "            else:\n",
        "                print(\"Rule Extract Error: Cannot identify the sign\")\n",
        "\n",
        "            content = re.sub(r'\\s+and$|\\s+or$', '', content)\n",
        "            obj = {\"rule_id\": rule_id, \"rule_text\": content, \"operator\": opeartor, \"rules\": None}\n",
        "            last_matched = obj\n",
        "\n",
        "            if l_id == 2:\n",
        "                if rules[\"rules\"][level_dic.get(1)-1][\"rules\"]:\n",
        "                    current_level = rules[\"rules\"][level_dic.get(1)-1][\"rules\"]\n",
        "                else:\n",
        "                    current_level = []\n",
        "                    rules[\"rules\"][level_dic.get(1)-1][\"rules\"] = [current_level]\n",
        "            elif l_id == 3:\n",
        "                print(rules[\"rules\"][level_dic.get(1)-1])\n",
        "                if rules[\"rules\"][level_dic.get(1)-1][\"rules\"][level_dic.get(2)-1][\"rules\"]:\n",
        "                    current_level = rules[\"rules\"][level_dic.get(1)-1][\"rules\"][level_dic.get(2)-1][\"rules\"]\n",
        "                else:\n",
        "                    current_level = []\n",
        "                    rules[\"rules\"][level_dic.get(1)-1][\"rules\"][level_dic.get(2)-1][\"rules\"] = current_level\n",
        "            current_level.append(obj)\n",
        "        else:\n",
        "            if last_matched:\n",
        "                line = re.sub(r'\\s+and$|\\s+or$', '', line)\n",
        "                last_matched[\"rule_text\"] += \" \" + line\n",
        "\n",
        "    return rules\n",
        "\n",
        "def extract_codes2(lines):\n",
        "    '''Extracts code from the fraction between the first existed Code Number Description and Date of Origin of input, the input is pdf tect split by \\n'''\n",
        "    # search between signs\n",
        "    cost = \"Codes Number Description\"\n",
        "    end_sign = \"Date of Origin\"\n",
        "    start_index = lines.index(cost)\n",
        "    end_index = next((i for i, line in enumerate(lines) if line.startswith(end_sign)), None)\n",
        "\n",
        "    if start_index == -1 and end_index == -1:\n",
        "        return {}\n",
        "\n",
        "    ed = lines[start_index+1:end_index]\n",
        "    codes = {\"cpt\": None, \"icd10\": None, \"hcpcs\": None}\n",
        "    current_group = None\n",
        "    current_code_number_a = None\n",
        "\n",
        "    for line in ed:\n",
        "        # Match lines starting with Roman numerals or numbers (e.g., I., II., A., 1.)\n",
        "        matches_1 = re.match(r'^(CPT|ICD10|HCPCS)+\\s+([\\dA-Z]{5})+\\s+(.*)', line)\n",
        "\n",
        "        if matches_1:\n",
        "            group = matches_1.group(1)\n",
        "            number = matches_1.group(2)\n",
        "            des = matches_1.group(3)\n",
        "\n",
        "            # As\n",
        "            if re.match(r'^CPT', group):\n",
        "                current_group = \"cpt\"\n",
        "            elif re.match(r'^ICD10', group):\n",
        "                current_group = \"icd10\"\n",
        "            elif re.match(r'^HCPCS', group):\n",
        "                current_group = \"hcpcs\"\n",
        "            else:\n",
        "                print(\"Rule Extract Error: Cannot identify the sign\")\n",
        "\n",
        "            codes[current_group] = number\n",
        "\n",
        "    return codes"
      ]
    },
    {
      "cell_type": "code",
      "execution_count": 7,
      "metadata": {
        "id": "P0FvK8f32E-c"
      },
      "outputs": [],
      "source": [
        "def extract_pdf(KEY, url):\n",
        "    # download PDF for extraction\n",
        "    response = requests.get(url)\n",
        "    with open(\"downloaded.pdf\", \"wb\") as f:\n",
        "        f.write(response.content)\n",
        "    # open PDF and extract\n",
        "    text = \"\"\n",
        "    with pdfplumber.open(\"downloaded.pdf\") as pdf:\n",
        "        for page in pdf.pages:\n",
        "            text_piece = page.extract_text()\n",
        "            text += text_piece + \"\\n\"\n",
        "    text = re.sub(r'^SUR.*\\n', '', text, flags=re.MULTILINE) # remove page index\n",
        "    lines = text.split('\\n') # line spliting\n",
        "    cost = \"Codes Number Description\"\n",
        "    extracted_title = extract_title(lines)\n",
        "    extracted_rules = extract_rules1(lines)\n",
        "    extracted_codes = extract_codes2(lines)\n",
        "    out = {\n",
        "        \"title\": extracted_title,\n",
        "        \"insurance_name\": \"Regene\",\n",
        "        \"rules\": extracted_rules,\n",
        "        \"codes\": [extracted_codes]}\n",
        "    return out"
      ]
    },
    {
      "cell_type": "code",
      "execution_count": 10,
      "metadata": {
        "colab": {
          "base_uri": "https://localhost:8080/"
        },
        "id": "cKraLDZv2AmC",
        "outputId": "f366556d-17d0-4213-9d3e-ce2d8e88b987"
      },
      "outputs": [
        {
          "name": "stdout",
          "output_type": "stream",
          "text": [
            "please check your $currentFolder/output.json\n"
          ]
        }
      ],
      "source": [
        "txt = extract_pdf(KEY, url)\n",
        "with open('output.json', 'w') as f:\n",
        "    json.dump(txt, f, indent=4) # Write the output to a file\n",
        "    print(\"please check your $currentFolder/output.json\"); f.close()"
      ]
    },
    {
      "cell_type": "code",
      "execution_count": null,
      "metadata": {
        "id": "uusGXGqwYFcS"
      },
      "outputs": [],
      "source": [
        "def extract_codes1(lines):\n",
        "    '''Extracts code from the fraction between the first existed Code Number Description and Date of Origin of input, the input is pdf tect split by \\n'''\n",
        "    # search between signs\n",
        "    ''' Different Format'''\n",
        "    end_sign = \"Date of Origin\"\n",
        "    start_index = lines.index(cost)\n",
        "    end_index = next((i for i, line in enumerate(lines) if line.startswith(end_sign)), None)\n",
        "\n",
        "    if start_index == -1 and end_index == -1:\n",
        "        return {}\n",
        "\n",
        "    ed = lines[start_index+1:end_index]\n",
        "    print(ed)\n",
        "    codes = {\"cpt\": None, \"icd10\": None, \"hcpcs\": None}\n",
        "    current_group = None\n",
        "    current_code_number_a = None\n",
        "\n",
        "    for line in ed:\n",
        "        # Match lines starting with Roman numerals or numbers (e.g., I., II., A., 1.)\n",
        "        matches_1 = re.match(r'^(CPT|ICD10|HCPCS)+\\s+(\\d|[A-Z]{5})+\\s+(.*)', line)\n",
        "        matches_2 = re.match(r'^(\\d|[A-Z]{5})+\\s+(.*)', line)\n",
        "        matches_3 = re.match(r'^(CPT|ICD10|HCPCS)+\\s+None', line)\n",
        "\n",
        "        if matches_1:\n",
        "            group = matches_1.group(1)\n",
        "            number = matches_1.group(2)\n",
        "            print(number)\n",
        "            des = matches_1.group(3)\n",
        "\n",
        "            # As\n",
        "            if re.match(r'^CPT', group):\n",
        "                current_group = \"cpt\"\n",
        "            elif re.match(r'^ICD10', group):\n",
        "                current_group = \"icd10\"\n",
        "            elif re.match(r'^HCPCS', group):\n",
        "                current_group = \"hcpcs\"\n",
        "            else:\n",
        "                print(\"Rule Extract Error: Cannot identify the sign\")\n",
        "\n",
        "            if not codes[current_group]:\n",
        "                codes[current_group] = []\n",
        "\n",
        "            obj = {number: des}\n",
        "            codes[current_group].append(obj)\n",
        "        elif matches_2:\n",
        "            if current_group:\n",
        "                number = matches_2.group(1)\n",
        "                des = matches_2.group(2)\n",
        "\n",
        "                codes[current_group].append({number: des})\n",
        "        elif matches_3:\n",
        "            continue\n",
        "        else:\n",
        "            if current_code_number_a:\n",
        "                codes[current_group][-1] += line\n",
        "\n",
        "    return codes\n"
      ]
    }
  ],
  "metadata": {
    "colab": {
      "provenance": []
    },
    "kernelspec": {
      "display_name": "Python 3",
      "language": "python",
      "name": "python3"
    },
    "language_info": {
      "codemirror_mode": {
        "name": "ipython",
        "version": 3
      },
      "file_extension": ".py",
      "mimetype": "text/x-python",
      "name": "python",
      "nbconvert_exporter": "python",
      "pygments_lexer": "ipython3",
      "version": "3.12.3"
    }
  },
  "nbformat": 4,
  "nbformat_minor": 0
}
